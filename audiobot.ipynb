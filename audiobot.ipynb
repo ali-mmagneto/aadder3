{
  "nbformat": 4,
  "nbformat_minor": 0,
  "metadata": {
    "colab": {
      "name": "aadder",
      "provenance": [],
      "authorship_tag": "ABX9TyPWMlUD/JXp4q8ST9UVJuhf",
      "include_colab_link": true
    },
    "kernelspec": {
      "display_name": "Python 3",
      "name": "python3"
    },
    "language_info": {
      "name": "python"
    }
  },
  "cells": [
    {
      "cell_type": "markdown",
      "metadata": {
        "id": "view-in-github",
        "colab_type": "text"
      },
      "source": [
        "<a href=\"https://colab.research.google.com/github/ali-mmagneto/aadder3/blob/master/audiobot.ipynb\" target=\"_parent\"><img src=\"https://colab.research.google.com/assets/colab-badge.svg\" alt=\"Open In Colab\"/></a>"
      ]
    },
    {
      "cell_type": "code",
      "metadata": {
        "cellView": "form",
        "id": "EBqWM-x61KSn"
      },
      "source": [
        "#@title <<----<strong> Auto Reconnect\n",
        "%%capture\n",
        "import IPython\n",
        "from google.colab import output\n",
        "\n",
        "display(IPython.display.Javascript('''\n",
        "function ClickConnect(){\n",
        "  btn = document.querySelector(\"colab-connect-button\")\n",
        "  if (btn != null){\n",
        "    console.log(\"Click colab-connect-button\"); \n",
        "    btn.click() \n",
        "    }\n",
        "  \n",
        "  btn = document.getElementById('ok')\n",
        "  if (btn != null){\n",
        "    console.log(\"Click reconnect\"); \n",
        "    btn.click() \n",
        "    }\n",
        "  }\n",
        "  \n",
        "setInterval(ClickConnect,60000)\n",
        "'''))"
      ],
      "execution_count": null,
      "outputs": []
    },
    {
      "cell_type": "code",
      "metadata": {
        "id": "G7-1QZEdQXCT"
      },
      "source": [
        "!apt install ffmpeg mediainfo\n",
        "!git clone https://github.com/ali-mmagneto/aadder3\n",
        "%cd aadder3"
      ],
      "execution_count": null,
      "outputs": []
    },
    {
      "cell_type": "code",
      "metadata": {
        "id": "UQhZ5LqSRIA2"
      },
      "source": [
        "!pip3 install -U pip\n",
        "!pip3 install -r ./requirements.txt"
      ],
      "execution_count": null,
      "outputs": []
    },
    {
      "cell_type": "code",
      "metadata": {
        "id": "Owqe0tPxUJbM"
      },
      "source": [
        "%env APP_ID=12345 \n",
        "# https://my.telegram.org'da bir uygulama oluşturarak edinin.\n",
        "%env API_HASH=abcdef\n",
        "# https://my.telegram.org'da bir uygulama oluşturarak edinin.\n",
        "%env BOT_TOKEN=123:abc \n",
        "# https://t.me/BotFather adresinde bir bot oluşturarak edinin.\n",
        "%env OWNER_ID=123 \n",
        "# Yetkili kullanıcıların sohbet tanımlayıcısı. Birden fazla kullanıcı için ayırıcı olarak boşluk kullanın.\n",
        "%env UPDATES_CHANNEL=123 \n",
        "# Yetkili sohbet tanımlayıcısı. Birden fazla sohbet için ayırıcı olarak boşluk kullanın.\n",
        "%env STRING_SESSION=downloads \n",
        "# (İsteğe bağlı) İndirilen dosyaları saklamak için geçici indirme dizini.\n",
        "%env PRE_LOG=downloads \n",
        "# (İsteğe bağlı) İndirilen dosyaları saklamak için geçici indirme dizini.\n",
        "%env DOWNLOAD_DIR=downloads \n",
        "# (İsteğe bağlı) İndirilen dosyaları saklamak için geçici indirme dizini.\n",
        "%env ENCODE_DIR=encodes \n",
        "# (İsteğe bağlı) kodlanan dosyaları buraya aktarır."
      ],
      "execution_count": null,
      "outputs": []
    },
    {
      "cell_type": "code",
      "metadata": {
        "colab": {
          "background_save": true
        },
        "id": "k2ARB3FQQyI-"
      },
      "source": [
        "!python3 audiobot.py"
      ],
      "execution_count": null,
      "outputs": []
    }
  ]
}
